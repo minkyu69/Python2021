{
  "nbformat": 4,
  "nbformat_minor": 0,
  "metadata": {
    "colab": {
      "name": "in☆.ipynb",
      "provenance": [],
      "authorship_tag": "ABX9TyOtrBis9v8ijP8yJsCRyVt3",
      "include_colab_link": true
    },
    "kernelspec": {
      "name": "python3",
      "display_name": "Python 3"
    },
    "language_info": {
      "name": "python"
    }
  },
  "cells": [
    {
      "cell_type": "markdown",
      "metadata": {
        "id": "view-in-github",
        "colab_type": "text"
      },
      "source": [
        "<a href=\"https://colab.research.google.com/github/minkyu69/Python2021/blob/main/in%E2%98%86.ipynb\" target=\"_parent\"><img src=\"https://colab.research.google.com/assets/colab-badge.svg\" alt=\"Open In Colab\"/></a>"
      ]
    },
    {
      "cell_type": "code",
      "metadata": {
        "colab": {
          "base_uri": "https://localhost:8080/"
        },
        "id": "LEV075UHP-0m",
        "outputId": "86e34654-0ceb-4bbc-eb3f-2455672ced36"
      },
      "source": [
        "print(\"My in☆ id : m._,kyu_\")"
      ],
      "execution_count": 1,
      "outputs": [
        {
          "output_type": "stream",
          "text": [
            "My in☆ id : m._,kyu_\n"
          ],
          "name": "stdout"
        }
      ]
    },
    {
      "cell_type": "code",
      "metadata": {
        "colab": {
          "base_uri": "https://localhost:8080/"
        },
        "id": "RVoNs6HqQNhH",
        "outputId": "67521a26-60cf-48ac-9e08-6121fa62d6b4"
      },
      "source": [
        "print(\"fallow gogo\")"
      ],
      "execution_count": 2,
      "outputs": [
        {
          "output_type": "stream",
          "text": [
            "fallow gogo\n"
          ],
          "name": "stdout"
        }
      ]
    }
  ]
}
